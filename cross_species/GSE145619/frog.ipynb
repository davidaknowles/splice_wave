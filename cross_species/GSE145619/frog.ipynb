{
 "cells": [
  {
   "cell_type": "code",
   "execution_count": 1,
   "id": "cbb6f360-b0ee-42f9-b193-aa1e07f5a97a",
   "metadata": {},
   "outputs": [],
   "source": [
    "import pandas as pd\n",
    "import matplotlib.pyplot as plt\n",
    "import numpy as np\n",
    "from pathlib import Path\n",
    "import re"
   ]
  },
  {
   "cell_type": "code",
   "execution_count": 2,
   "id": "df650acc-7448-4eac-8f7c-b5d018435fb1",
   "metadata": {},
   "outputs": [
    {
     "data": {
      "text/plain": [
       "[PosixPath('GSM4322285_ATACseq_stage105_R1_peaks.bed.gz'),\n",
       " PosixPath('GSM4322287_ATACseq_stage12_R1_peaks.bed.gz'),\n",
       " PosixPath('GSM4322284_ATACseq_stage9_R2_peaks.bed.gz'),\n",
       " PosixPath('GSM4322294_ATACseq_Blastoporelip_R2_peaks.bed.gz'),\n",
       " PosixPath('GSM4322286_ATACseq_stage105_R2_peaks.bed.gz'),\n",
       " PosixPath('GSM4322289_ATACseq_stage16_R1_peaks.bed.gz'),\n",
       " PosixPath('GSM4322292_ATACseq_AnimalCap_R2_peaks.bed.gz'),\n",
       " PosixPath('GSM4322293_ATACseq_Blastoporelip_R1_peaks.bed.gz'),\n",
       " PosixPath('GSM4322288_ATACseq_stage12_R2_peaks.bed.gz'),\n",
       " PosixPath('GSM4322291_ATACseq_AnimalCap_R1_peaks.bed.gz'),\n",
       " PosixPath('GSM4322283_ATACseq_stage9_R1_peaks.bed.gz'),\n",
       " PosixPath('GSM4322290_ATACseq_stage16_R2_peaks.bed.gz')]"
      ]
     },
     "execution_count": 2,
     "metadata": {},
     "output_type": "execute_result"
    }
   ],
   "source": [
    "files = list(Path(\".\").glob(\"*.bed.gz\"))\n",
    "files"
   ]
  },
  {
   "cell_type": "code",
   "execution_count": 23,
   "id": "a2918b73-7cbe-4256-830f-7bd3a3a460de",
   "metadata": {},
   "outputs": [
    {
     "data": {
      "text/html": [
       "<div>\n",
       "<style scoped>\n",
       "    .dataframe tbody tr th:only-of-type {\n",
       "        vertical-align: middle;\n",
       "    }\n",
       "\n",
       "    .dataframe tbody tr th {\n",
       "        vertical-align: top;\n",
       "    }\n",
       "\n",
       "    .dataframe thead th {\n",
       "        text-align: right;\n",
       "    }\n",
       "</style>\n",
       "<table border=\"1\" class=\"dataframe\">\n",
       "  <thead>\n",
       "    <tr style=\"text-align: right;\">\n",
       "      <th></th>\n",
       "      <th>file</th>\n",
       "      <th>tissue</th>\n",
       "    </tr>\n",
       "  </thead>\n",
       "  <tbody>\n",
       "    <tr>\n",
       "      <th>0</th>\n",
       "      <td>GSM4322285_ATACseq_stage105_R1_peaks.bed.gz</td>\n",
       "      <td>stage105</td>\n",
       "    </tr>\n",
       "    <tr>\n",
       "      <th>1</th>\n",
       "      <td>GSM4322287_ATACseq_stage12_R1_peaks.bed.gz</td>\n",
       "      <td>stage12</td>\n",
       "    </tr>\n",
       "    <tr>\n",
       "      <th>2</th>\n",
       "      <td>GSM4322284_ATACseq_stage9_R2_peaks.bed.gz</td>\n",
       "      <td>stage9</td>\n",
       "    </tr>\n",
       "    <tr>\n",
       "      <th>3</th>\n",
       "      <td>GSM4322294_ATACseq_Blastoporelip_R2_peaks.bed.gz</td>\n",
       "      <td>Blastoporelip</td>\n",
       "    </tr>\n",
       "    <tr>\n",
       "      <th>4</th>\n",
       "      <td>GSM4322286_ATACseq_stage105_R2_peaks.bed.gz</td>\n",
       "      <td>stage105</td>\n",
       "    </tr>\n",
       "    <tr>\n",
       "      <th>5</th>\n",
       "      <td>GSM4322289_ATACseq_stage16_R1_peaks.bed.gz</td>\n",
       "      <td>stage16</td>\n",
       "    </tr>\n",
       "    <tr>\n",
       "      <th>6</th>\n",
       "      <td>GSM4322292_ATACseq_AnimalCap_R2_peaks.bed.gz</td>\n",
       "      <td>AnimalCap</td>\n",
       "    </tr>\n",
       "    <tr>\n",
       "      <th>7</th>\n",
       "      <td>GSM4322293_ATACseq_Blastoporelip_R1_peaks.bed.gz</td>\n",
       "      <td>Blastoporelip</td>\n",
       "    </tr>\n",
       "    <tr>\n",
       "      <th>8</th>\n",
       "      <td>GSM4322288_ATACseq_stage12_R2_peaks.bed.gz</td>\n",
       "      <td>stage12</td>\n",
       "    </tr>\n",
       "    <tr>\n",
       "      <th>9</th>\n",
       "      <td>GSM4322291_ATACseq_AnimalCap_R1_peaks.bed.gz</td>\n",
       "      <td>AnimalCap</td>\n",
       "    </tr>\n",
       "    <tr>\n",
       "      <th>10</th>\n",
       "      <td>GSM4322283_ATACseq_stage9_R1_peaks.bed.gz</td>\n",
       "      <td>stage9</td>\n",
       "    </tr>\n",
       "    <tr>\n",
       "      <th>11</th>\n",
       "      <td>GSM4322290_ATACseq_stage16_R2_peaks.bed.gz</td>\n",
       "      <td>stage16</td>\n",
       "    </tr>\n",
       "  </tbody>\n",
       "</table>\n",
       "</div>"
      ],
      "text/plain": [
       "                                                file         tissue\n",
       "0        GSM4322285_ATACseq_stage105_R1_peaks.bed.gz       stage105\n",
       "1         GSM4322287_ATACseq_stage12_R1_peaks.bed.gz        stage12\n",
       "2          GSM4322284_ATACseq_stage9_R2_peaks.bed.gz         stage9\n",
       "3   GSM4322294_ATACseq_Blastoporelip_R2_peaks.bed.gz  Blastoporelip\n",
       "4        GSM4322286_ATACseq_stage105_R2_peaks.bed.gz       stage105\n",
       "5         GSM4322289_ATACseq_stage16_R1_peaks.bed.gz        stage16\n",
       "6       GSM4322292_ATACseq_AnimalCap_R2_peaks.bed.gz      AnimalCap\n",
       "7   GSM4322293_ATACseq_Blastoporelip_R1_peaks.bed.gz  Blastoporelip\n",
       "8         GSM4322288_ATACseq_stage12_R2_peaks.bed.gz        stage12\n",
       "9       GSM4322291_ATACseq_AnimalCap_R1_peaks.bed.gz      AnimalCap\n",
       "10         GSM4322283_ATACseq_stage9_R1_peaks.bed.gz         stage9\n",
       "11        GSM4322290_ATACseq_stage16_R2_peaks.bed.gz        stage16"
      ]
     },
     "execution_count": 23,
     "metadata": {},
     "output_type": "execute_result"
    }
   ],
   "source": [
    "tissues = pd.DataFrame({ \n",
    "    \"file\" : files,\n",
    "    \"tissue\" : [ re.search(r'ATACseq_([-A-Za-z0-9]+)_R[1-2]_peaks.bed.gz', str(g)).group(1) for g in files ]\n",
    "})\n",
    "tissues"
   ]
  },
  {
   "cell_type": "code",
   "execution_count": 24,
   "id": "4cfd886f-5a79-4b08-8a4f-3cbe95c09aa7",
   "metadata": {},
   "outputs": [
    {
     "data": {
      "text/plain": [
       "Index(['stage105', 'stage12', 'stage9', 'Blastoporelip', 'stage16',\n",
       "       'AnimalCap'],\n",
       "      dtype='object', name='tissue')"
      ]
     },
     "execution_count": 24,
     "metadata": {},
     "output_type": "execute_result"
    }
   ],
   "source": [
    "unique_tissues = tissues[\"tissue\"].value_counts().index\n",
    "unique_tissues"
   ]
  },
  {
   "cell_type": "code",
   "execution_count": 21,
   "id": "f90df176-c41c-441b-8257-b67d3048b6ef",
   "metadata": {},
   "outputs": [],
   "source": [
    "from pathlib import Path\n",
    "import sys\n",
    "local_modules_path = (Path(\".\") / '..').resolve()\n",
    "sys.path.append(str(local_modules_path))\n",
    "from utils import merge_intervals"
   ]
  },
  {
   "cell_type": "code",
   "execution_count": 28,
   "id": "41a4b66d-54e4-4284-b471-126cdc4d41f6",
   "metadata": {},
   "outputs": [
    {
     "name": "stdout",
     "output_type": "stream",
     "text": [
      "0    GSM4322285_ATACseq_stage105_R1_peaks.bed.gz\n",
      "4    GSM4322286_ATACseq_stage105_R2_peaks.bed.gz\n",
      "Name: file, dtype: object\n",
      "1    GSM4322287_ATACseq_stage12_R1_peaks.bed.gz\n",
      "8    GSM4322288_ATACseq_stage12_R2_peaks.bed.gz\n",
      "Name: file, dtype: object\n",
      "2     GSM4322284_ATACseq_stage9_R2_peaks.bed.gz\n",
      "10    GSM4322283_ATACseq_stage9_R1_peaks.bed.gz\n",
      "Name: file, dtype: object\n",
      "3    GSM4322294_ATACseq_Blastoporelip_R2_peaks.bed.gz\n",
      "7    GSM4322293_ATACseq_Blastoporelip_R1_peaks.bed.gz\n",
      "Name: file, dtype: object\n",
      "5     GSM4322289_ATACseq_stage16_R1_peaks.bed.gz\n",
      "11    GSM4322290_ATACseq_stage16_R2_peaks.bed.gz\n",
      "Name: file, dtype: object\n",
      "6    GSM4322292_ATACseq_AnimalCap_R2_peaks.bed.gz\n",
      "9    GSM4322291_ATACseq_AnimalCap_R1_peaks.bed.gz\n",
      "Name: file, dtype: object\n"
     ]
    }
   ],
   "source": []
  },
  {
   "cell_type": "code",
   "execution_count": 34,
   "id": "eff63dc9-d129-43a8-b886-800768fe39f0",
   "metadata": {},
   "outputs": [],
   "source": [
    "column_names = [\n",
    "    'chrom', 'start', 'end', 'name', 'score', 'strand',\n",
    "    'signalValue', 'pValue', 'qValue', 'peak'\n",
    "]\n",
    "\n",
    "bedfiles = []\n",
    "for tissue in unique_tissues: \n",
    "    files = tissues[tissues[\"tissue\"] == tissue][\"file\"]\n",
    "    concated = pd.concat([ pd.read_csv(f, sep='\\t', names = column_names) for f in files ], axis = 0)\n",
    "    merged = merge_intervals(concated)\n",
    "    filename = f\"{tissue}_ATAC.bed.gz\"\n",
    "    merged.to_csv(filename, sep=\"\\t\", header=False, index=False)\n",
    "    bedfiles.append(filename)"
   ]
  },
  {
   "cell_type": "code",
   "execution_count": 38,
   "id": "fbbfbe7f-03fa-4635-93ae-d3628648fda8",
   "metadata": {},
   "outputs": [],
   "source": [
    "meta = pd.DataFrame({\n",
    "    \"tissue\" : unique_tissues, \n",
    "    \"assay\" : \"ATAC\", \n",
    "    \"species\" : \"xenopus_tropicalis\", \n",
    "    \"filename\" : bedfiles, \n",
    "    \"original\" : [ \",\".join(tissues[tissues[\"tissue\"] == tissue][\"file\"].astype(str)) for tissue in unique_tissues]\n",
    "})\n",
    "\n",
    "meta = meta[[\"tissue\",\"assay\",\"species\",\"filename\",\"original\"]]\n",
    "meta.to_csv(\"meta.tsv\", sep=\"\\t\", index=False)"
   ]
  },
  {
   "cell_type": "code",
   "execution_count": 40,
   "id": "8720c588-318f-46d4-995e-f9178022bc15",
   "metadata": {},
   "outputs": [
    {
     "data": {
      "text/html": [
       "<div>\n",
       "<style scoped>\n",
       "    .dataframe tbody tr th:only-of-type {\n",
       "        vertical-align: middle;\n",
       "    }\n",
       "\n",
       "    .dataframe tbody tr th {\n",
       "        vertical-align: top;\n",
       "    }\n",
       "\n",
       "    .dataframe thead th {\n",
       "        text-align: right;\n",
       "    }\n",
       "</style>\n",
       "<table border=\"1\" class=\"dataframe\">\n",
       "  <thead>\n",
       "    <tr style=\"text-align: right;\">\n",
       "      <th></th>\n",
       "      <th>tissue</th>\n",
       "      <th>assay</th>\n",
       "      <th>species</th>\n",
       "      <th>filename</th>\n",
       "      <th>original</th>\n",
       "    </tr>\n",
       "  </thead>\n",
       "  <tbody>\n",
       "    <tr>\n",
       "      <th>0</th>\n",
       "      <td>stage105</td>\n",
       "      <td>ATAC</td>\n",
       "      <td>xenopus_tropicalis</td>\n",
       "      <td>stage105_ATAC.bed.gz</td>\n",
       "      <td>GSM4322285_ATACseq_stage105_R1_peaks.bed.gz,GS...</td>\n",
       "    </tr>\n",
       "    <tr>\n",
       "      <th>1</th>\n",
       "      <td>stage12</td>\n",
       "      <td>ATAC</td>\n",
       "      <td>xenopus_tropicalis</td>\n",
       "      <td>stage12_ATAC.bed.gz</td>\n",
       "      <td>GSM4322287_ATACseq_stage12_R1_peaks.bed.gz,GSM...</td>\n",
       "    </tr>\n",
       "    <tr>\n",
       "      <th>2</th>\n",
       "      <td>stage9</td>\n",
       "      <td>ATAC</td>\n",
       "      <td>xenopus_tropicalis</td>\n",
       "      <td>stage9_ATAC.bed.gz</td>\n",
       "      <td>GSM4322284_ATACseq_stage9_R2_peaks.bed.gz,GSM4...</td>\n",
       "    </tr>\n",
       "    <tr>\n",
       "      <th>3</th>\n",
       "      <td>Blastoporelip</td>\n",
       "      <td>ATAC</td>\n",
       "      <td>xenopus_tropicalis</td>\n",
       "      <td>Blastoporelip_ATAC.bed.gz</td>\n",
       "      <td>GSM4322294_ATACseq_Blastoporelip_R2_peaks.bed....</td>\n",
       "    </tr>\n",
       "    <tr>\n",
       "      <th>4</th>\n",
       "      <td>stage16</td>\n",
       "      <td>ATAC</td>\n",
       "      <td>xenopus_tropicalis</td>\n",
       "      <td>stage16_ATAC.bed.gz</td>\n",
       "      <td>GSM4322289_ATACseq_stage16_R1_peaks.bed.gz,GSM...</td>\n",
       "    </tr>\n",
       "    <tr>\n",
       "      <th>5</th>\n",
       "      <td>AnimalCap</td>\n",
       "      <td>ATAC</td>\n",
       "      <td>xenopus_tropicalis</td>\n",
       "      <td>AnimalCap_ATAC.bed.gz</td>\n",
       "      <td>GSM4322292_ATACseq_AnimalCap_R2_peaks.bed.gz,G...</td>\n",
       "    </tr>\n",
       "  </tbody>\n",
       "</table>\n",
       "</div>"
      ],
      "text/plain": [
       "          tissue assay             species                   filename  \\\n",
       "0       stage105  ATAC  xenopus_tropicalis       stage105_ATAC.bed.gz   \n",
       "1        stage12  ATAC  xenopus_tropicalis        stage12_ATAC.bed.gz   \n",
       "2         stage9  ATAC  xenopus_tropicalis         stage9_ATAC.bed.gz   \n",
       "3  Blastoporelip  ATAC  xenopus_tropicalis  Blastoporelip_ATAC.bed.gz   \n",
       "4        stage16  ATAC  xenopus_tropicalis        stage16_ATAC.bed.gz   \n",
       "5      AnimalCap  ATAC  xenopus_tropicalis      AnimalCap_ATAC.bed.gz   \n",
       "\n",
       "                                            original  \n",
       "0  GSM4322285_ATACseq_stage105_R1_peaks.bed.gz,GS...  \n",
       "1  GSM4322287_ATACseq_stage12_R1_peaks.bed.gz,GSM...  \n",
       "2  GSM4322284_ATACseq_stage9_R2_peaks.bed.gz,GSM4...  \n",
       "3  GSM4322294_ATACseq_Blastoporelip_R2_peaks.bed....  \n",
       "4  GSM4322289_ATACseq_stage16_R1_peaks.bed.gz,GSM...  \n",
       "5  GSM4322292_ATACseq_AnimalCap_R2_peaks.bed.gz,G...  "
      ]
     },
     "execution_count": 40,
     "metadata": {},
     "output_type": "execute_result"
    }
   ],
   "source": [
    "meta"
   ]
  },
  {
   "cell_type": "code",
   "execution_count": null,
   "id": "b9e6547a-308c-400c-977c-340c89995fdd",
   "metadata": {},
   "outputs": [],
   "source": []
  }
 ],
 "metadata": {
  "kernelspec": {
   "display_name": "Python 3 (ipykernel)",
   "language": "python",
   "name": "python3"
  },
  "language_info": {
   "codemirror_mode": {
    "name": "ipython",
    "version": 3
   },
   "file_extension": ".py",
   "mimetype": "text/x-python",
   "name": "python",
   "nbconvert_exporter": "python",
   "pygments_lexer": "ipython3",
   "version": "3.9.7"
  }
 },
 "nbformat": 4,
 "nbformat_minor": 5
}
