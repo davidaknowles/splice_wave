{
 "cells": [
  {
   "cell_type": "code",
   "execution_count": 2,
   "id": "61f3d2c1-7558-428f-9eca-04decc8ab106",
   "metadata": {},
   "outputs": [],
   "source": [
    "import pandas as pd\n",
    "import matplotlib.pyplot as plt\n",
    "import numpy as np\n",
    "from pathlib import Path\n",
    "import re"
   ]
  },
  {
   "cell_type": "code",
   "execution_count": 3,
   "id": "cc1b1635-fa43-4bbc-ac33-ec5d49cc6d26",
   "metadata": {},
   "outputs": [
    {
     "data": {
      "text/html": [
       "<div>\n",
       "<style scoped>\n",
       "    .dataframe tbody tr th:only-of-type {\n",
       "        vertical-align: middle;\n",
       "    }\n",
       "\n",
       "    .dataframe tbody tr th {\n",
       "        vertical-align: top;\n",
       "    }\n",
       "\n",
       "    .dataframe thead th {\n",
       "        text-align: right;\n",
       "    }\n",
       "</style>\n",
       "<table border=\"1\" class=\"dataframe\">\n",
       "  <thead>\n",
       "    <tr style=\"text-align: right;\">\n",
       "      <th></th>\n",
       "      <th>chrom</th>\n",
       "      <th>start</th>\n",
       "      <th>end</th>\n",
       "      <th>name</th>\n",
       "      <th>score</th>\n",
       "      <th>strand</th>\n",
       "      <th>signalValue</th>\n",
       "      <th>pValue</th>\n",
       "      <th>qValue</th>\n",
       "      <th>peak</th>\n",
       "    </tr>\n",
       "  </thead>\n",
       "  <tbody>\n",
       "    <tr>\n",
       "      <th>0</th>\n",
       "      <td>chr10</td>\n",
       "      <td>39875170</td>\n",
       "      <td>39876042</td>\n",
       "      <td>Peak_1</td>\n",
       "      <td>73727</td>\n",
       "      <td>.</td>\n",
       "      <td>19.32988</td>\n",
       "      <td>7372.79199</td>\n",
       "      <td>7363.99707</td>\n",
       "      <td>471</td>\n",
       "    </tr>\n",
       "    <tr>\n",
       "      <th>1</th>\n",
       "      <td>chr10</td>\n",
       "      <td>39875170</td>\n",
       "      <td>39876042</td>\n",
       "      <td>Peak_2</td>\n",
       "      <td>55144</td>\n",
       "      <td>.</td>\n",
       "      <td>15.91071</td>\n",
       "      <td>5514.40234</td>\n",
       "      <td>5506.71289</td>\n",
       "      <td>332</td>\n",
       "    </tr>\n",
       "    <tr>\n",
       "      <th>2</th>\n",
       "      <td>chr10</td>\n",
       "      <td>39875170</td>\n",
       "      <td>39876042</td>\n",
       "      <td>Peak_3</td>\n",
       "      <td>45223</td>\n",
       "      <td>.</td>\n",
       "      <td>13.97540</td>\n",
       "      <td>4522.37402</td>\n",
       "      <td>4515.44824</td>\n",
       "      <td>169</td>\n",
       "    </tr>\n",
       "    <tr>\n",
       "      <th>3</th>\n",
       "      <td>chr7</td>\n",
       "      <td>10867756</td>\n",
       "      <td>10868409</td>\n",
       "      <td>Peak_4</td>\n",
       "      <td>33579</td>\n",
       "      <td>.</td>\n",
       "      <td>18.64662</td>\n",
       "      <td>3357.98535</td>\n",
       "      <td>3351.41357</td>\n",
       "      <td>409</td>\n",
       "    </tr>\n",
       "    <tr>\n",
       "      <th>4</th>\n",
       "      <td>chrUn_NW_018084866v1</td>\n",
       "      <td>205041</td>\n",
       "      <td>205810</td>\n",
       "      <td>Peak_5</td>\n",
       "      <td>27127</td>\n",
       "      <td>.</td>\n",
       "      <td>16.41345</td>\n",
       "      <td>2712.71411</td>\n",
       "      <td>2706.27930</td>\n",
       "      <td>544</td>\n",
       "    </tr>\n",
       "    <tr>\n",
       "      <th>...</th>\n",
       "      <td>...</td>\n",
       "      <td>...</td>\n",
       "      <td>...</td>\n",
       "      <td>...</td>\n",
       "      <td>...</td>\n",
       "      <td>...</td>\n",
       "      <td>...</td>\n",
       "      <td>...</td>\n",
       "      <td>...</td>\n",
       "      <td>...</td>\n",
       "    </tr>\n",
       "    <tr>\n",
       "      <th>186332</th>\n",
       "      <td>chr6</td>\n",
       "      <td>69430662</td>\n",
       "      <td>69431861</td>\n",
       "      <td>Peak_186333</td>\n",
       "      <td>50</td>\n",
       "      <td>.</td>\n",
       "      <td>2.23464</td>\n",
       "      <td>5.00166</td>\n",
       "      <td>3.20817</td>\n",
       "      <td>598</td>\n",
       "    </tr>\n",
       "    <tr>\n",
       "      <th>186333</th>\n",
       "      <td>chr1</td>\n",
       "      <td>120806987</td>\n",
       "      <td>120808712</td>\n",
       "      <td>Peak_186334</td>\n",
       "      <td>50</td>\n",
       "      <td>.</td>\n",
       "      <td>1.88505</td>\n",
       "      <td>5.00121</td>\n",
       "      <td>3.20775</td>\n",
       "      <td>1640</td>\n",
       "    </tr>\n",
       "    <tr>\n",
       "      <th>186334</th>\n",
       "      <td>chr12</td>\n",
       "      <td>1904491</td>\n",
       "      <td>1905228</td>\n",
       "      <td>Peak_186335</td>\n",
       "      <td>50</td>\n",
       "      <td>.</td>\n",
       "      <td>1.93695</td>\n",
       "      <td>5.00062</td>\n",
       "      <td>3.20716</td>\n",
       "      <td>110</td>\n",
       "    </tr>\n",
       "    <tr>\n",
       "      <th>186335</th>\n",
       "      <td>chr10</td>\n",
       "      <td>12754952</td>\n",
       "      <td>12757490</td>\n",
       "      <td>Peak_186336</td>\n",
       "      <td>50</td>\n",
       "      <td>.</td>\n",
       "      <td>1.95122</td>\n",
       "      <td>5.00059</td>\n",
       "      <td>3.20714</td>\n",
       "      <td>319</td>\n",
       "    </tr>\n",
       "    <tr>\n",
       "      <th>186336</th>\n",
       "      <td>chr7</td>\n",
       "      <td>38115159</td>\n",
       "      <td>38116371</td>\n",
       "      <td>Peak_186337</td>\n",
       "      <td>50</td>\n",
       "      <td>.</td>\n",
       "      <td>1.50770</td>\n",
       "      <td>5.00048</td>\n",
       "      <td>3.20704</td>\n",
       "      <td>1138</td>\n",
       "    </tr>\n",
       "  </tbody>\n",
       "</table>\n",
       "<p>186337 rows × 10 columns</p>\n",
       "</div>"
      ],
      "text/plain": [
       "                       chrom      start        end         name  score strand  \\\n",
       "0                      chr10   39875170   39876042       Peak_1  73727      .   \n",
       "1                      chr10   39875170   39876042       Peak_2  55144      .   \n",
       "2                      chr10   39875170   39876042       Peak_3  45223      .   \n",
       "3                       chr7   10867756   10868409       Peak_4  33579      .   \n",
       "4       chrUn_NW_018084866v1     205041     205810       Peak_5  27127      .   \n",
       "...                      ...        ...        ...          ...    ...    ...   \n",
       "186332                  chr6   69430662   69431861  Peak_186333     50      .   \n",
       "186333                  chr1  120806987  120808712  Peak_186334     50      .   \n",
       "186334                 chr12    1904491    1905228  Peak_186335     50      .   \n",
       "186335                 chr10   12754952   12757490  Peak_186336     50      .   \n",
       "186336                  chr7   38115159   38116371  Peak_186337     50      .   \n",
       "\n",
       "        signalValue      pValue      qValue  peak  \n",
       "0          19.32988  7372.79199  7363.99707   471  \n",
       "1          15.91071  5514.40234  5506.71289   332  \n",
       "2          13.97540  4522.37402  4515.44824   169  \n",
       "3          18.64662  3357.98535  3351.41357   409  \n",
       "4          16.41345  2712.71411  2706.27930   544  \n",
       "...             ...         ...         ...   ...  \n",
       "186332      2.23464     5.00166     3.20817   598  \n",
       "186333      1.88505     5.00121     3.20775  1640  \n",
       "186334      1.93695     5.00062     3.20716   110  \n",
       "186335      1.95122     5.00059     3.20714   319  \n",
       "186336      1.50770     5.00048     3.20704  1138  \n",
       "\n",
       "[186337 rows x 10 columns]"
      ]
     },
     "execution_count": 3,
     "metadata": {},
     "output_type": "execute_result"
    }
   ],
   "source": [
    "column_names = [\n",
    "    'chrom', 'start', 'end', 'name', 'score', 'strand',\n",
    "    'signalValue', 'pValue', 'qValue', 'peak'\n",
    "]\n",
    "\n",
    "fat = pd.read_csv(\"GSM4256374_Duroc_2W_1_Fat_ATAC.narrowPeak.gz\", sep='\\t', header=None, names=column_names)\n",
    "fat"
   ]
  },
  {
   "cell_type": "code",
   "execution_count": 4,
   "id": "ada56cb3-a3ff-4ee5-a761-7ae4cc2cba53",
   "metadata": {},
   "outputs": [
    {
     "data": {
      "image/png": "[encoded data removed]",
      "text/plain": [
       "<Figure size 640x480 with 1 Axes>"
      ]
     },
     "metadata": {},
     "output_type": "display_data"
    }
   ],
   "source": [
    "peak_sizes = fat[\"end\"]-fat[\"start\"] # histones have larger peaks than ATAC\n",
    "plt.hist(np.log10(peak_sizes),30)\n",
    "plt.show()"
   ]
  },
  {
   "cell_type": "code",
   "execution_count": 5,
   "id": "c3cebe23-65dd-4f34-ad78-a70b1a6076b9",
   "metadata": {},
   "outputs": [
    {
     "data": {
      "text/plain": [
       "3.20704"
      ]
     },
     "execution_count": 5,
     "metadata": {},
     "output_type": "execute_result"
    }
   ],
   "source": [
    "fat[\"qValue\"].min() # so only significant stuff here"
   ]
  },
  {
   "cell_type": "code",
   "execution_count": 6,
   "id": "8c1b48b4-f9d9-4e67-80a3-37a3c21886b6",
   "metadata": {},
   "outputs": [],
   "source": [
    "tissue_assay = pd.DataFrame({ \n",
    "    \"tissue\" : [ re.search(r'[1-2]_([-A-Za-z]+)_[^_.]+\\.narrowPeak', str(g)).group(1) for g in Path(\".\").glob(\"*.gz\") ],\n",
    "    \"assay\" : [ re.search(r'_([^_.]+)\\.narrowPeak\\.gz$', str(g)).group(1) for g in Path(\".\").glob(\"*.gz\") ]\n",
    "})\n",
    "tissue_assay = tissue_assay.drop_duplicates()"
   ]
  },
  {
   "cell_type": "code",
   "execution_count": 7,
   "id": "bf76becd-53fe-40ed-94e2-b2b39d317d74",
   "metadata": {},
   "outputs": [],
   "source": [
    "from ..utils import merge_intervals"
   ]
  },
  {
   "cell_type": "code",
   "execution_count": 14,
   "id": "c88d1a5b-1f14-49c1-b560-b79ad4534f6a",
   "metadata": {},
   "outputs": [],
   "source": [
    "outdir = Path(\"merged\")\n",
    "outdir.mkdir(parents=True, exist_ok=True)"
   ]
  },
  {
   "cell_type": "code",
   "execution_count": 18,
   "id": "8c13382b-6515-4bd5-902b-1ea68bfce722",
   "metadata": {},
   "outputs": [
    {
     "name": "stdout",
     "output_type": "stream",
     "text": [
      "Liver H3K4me3 done, took 18.283493518829346\n",
      "Thymus H3K27ac done, took 8.556457996368408\n",
      "Fat ATAC done, took 104.21589875221252\n",
      "Thymus H3K4me3 done, took 5.038900136947632\n",
      "Pancreas H3K27ac done, took 16.969733238220215\n",
      "Spleen H3K4me3 done, took 16.793147563934326\n",
      "Muscle H3K4me3 done, took 17.733277082443237\n",
      "Duodenum H3K4me3 done, took 6.663012742996216\n",
      "Kidney H3K4me3 done, took 5.706010818481445\n",
      "Muscle H3K27ac done, took 51.35510849952698\n",
      "Lung H3K4me3 done, took 5.830154895782471\n",
      "Cerebrum H3K27ac done, took 15.376641273498535\n",
      "Muscle ATAC done, took 90.17065238952637\n",
      "Heart H3K27ac done, took 55.233988523483276\n",
      "Spleen H3K27ac done, took 45.12906241416931\n",
      "Liver ATAC done, took 59.397194623947144\n",
      "Heart H3K4me3 done, took 17.22424006462097\n",
      "Kidney H3K27ac done, took 18.883554458618164\n",
      "Liver H3K27ac done, took 60.671385526657104\n",
      "Fat H3K4me3 done, took 19.20882797241211\n",
      "Pancreas H3K4me3 done, took 5.949513673782349\n",
      "Fat H3K27ac done, took 38.7342963218689\n",
      "Duodenum H3K27ac done, took 19.286181449890137\n",
      "Cerebrum H3K4me3 done, took 6.347467422485352\n",
      "Cerebellum H3K4me3 done, took 5.60901665687561\n",
      "Heart ATAC done, took 42.3605523109436\n",
      "Cerebellum H3K27ac done, took 14.519736766815186\n",
      "Lung H3K27ac done, took 17.651599884033203\n",
      "Spleen ATAC done, took 28.952970504760742\n"
     ]
    }
   ],
   "source": [
    "import time\n",
    "og_files = []\n",
    "out_files = []\n",
    "for i in range(tissue_assay.shape[0]):\n",
    "    start_time = time.time()\n",
    "    tissue = tissue_assay[\"tissue\"].iloc[i]\n",
    "    assay = tissue_assay[\"assay\"].iloc[i]\n",
    "    files = Path(\".\").glob(f\"*{tissue}_{assay}*.gz\")\n",
    "    df_all = pd.concat(\n",
    "        [ pd.read_csv(g, sep='\\t', header=None, names=column_names) \n",
    "         for g in files ],\n",
    "        axis=0)\n",
    "    merged = merge_intervals(df_all)\n",
    "    outfile = f\"{tissue} {assay}.bed.gz\"\n",
    "    merged.to_csv(outdir / outfile, sep = \"\\t\", index = False, header = False)\n",
    "    out_files.append(outfile)\n",
    "    og_files.append(\",\".join(files)) \n",
    "    print(f\"{tissue} {assay} done, took {time.time()-start_time}\")"
   ]
  },
  {
   "cell_type": "code",
   "execution_count": 38,
   "id": "5d35ebc4-62d9-488a-93b5-d9b019b6333a",
   "metadata": {},
   "outputs": [],
   "source": [
    "os.chdir(\"../GSE143288\")"
   ]
  },
  {
   "cell_type": "code",
   "execution_count": 42,
   "id": "d2bc68e7-a094-441f-9cde-8d24991195ac",
   "metadata": {},
   "outputs": [],
   "source": [
    "import time\n",
    "og_files = []\n",
    "for i in range(tissue_assay.shape[0]):\n",
    "    start_time = time.time()\n",
    "    tissue = tissue_assay[\"tissue\"].iloc[i]\n",
    "    assay = tissue_assay[\"assay\"].iloc[i]\n",
    "    files = Path(\".\").glob(f\"*{tissue}_{assay}*.gz\")\n",
    "    og_files.append(\",\".join([str(g) for g in files]))"
   ]
  },
  {
   "cell_type": "code",
   "execution_count": 44,
   "id": "052edf27-8a14-48aa-adcc-d8e289ed16b9",
   "metadata": {},
   "outputs": [],
   "source": [
    "tissue_assay[\"original\"] = og_files"
   ]
  },
  {
   "cell_type": "code",
   "execution_count": 47,
   "id": "ccff6fee-01dd-4206-9514-3fa716ee0da1",
   "metadata": {},
   "outputs": [],
   "source": [
    "tissue_assay[\"filename\"] = out_files\n",
    "tissue_assay[\"species\"] = \"sus_scrofa\""
   ]
  },
  {
   "cell_type": "code",
   "execution_count": 48,
   "id": "be2cd060-7d1f-4da7-bbc9-5e8e980afbdc",
   "metadata": {},
   "outputs": [],
   "source": [
    "meta = tissue_assay[[\"tissue\",\"assay\",\"species\",\"filename\",\"original\"]]\n",
    "meta.to_csv(\"meta.tsv\", sep=\"\\t\", index=False)"
   ]
  },
  {
   "cell_type": "code",
   "execution_count": 30,
   "id": "7d1c8518-ece6-42aa-b49b-1d194e7e4b22",
   "metadata": {},
   "outputs": [],
   "source": [
    "fat_merged = merge_intervals(fat_all)"
   ]
  },
  {
   "cell_type": "code",
   "execution_count": 31,
   "id": "2b4c4df7-1ee0-49bb-92f1-3c71b5752171",
   "metadata": {},
   "outputs": [
    {
     "data": {
      "text/html": [
       "<div>\n",
       "<style scoped>\n",
       "    .dataframe tbody tr th:only-of-type {\n",
       "        vertical-align: middle;\n",
       "    }\n",
       "\n",
       "    .dataframe tbody tr th {\n",
       "        vertical-align: top;\n",
       "    }\n",
       "\n",
       "    .dataframe thead th {\n",
       "        text-align: right;\n",
       "    }\n",
       "</style>\n",
       "<table border=\"1\" class=\"dataframe\">\n",
       "  <thead>\n",
       "    <tr style=\"text-align: right;\">\n",
       "      <th></th>\n",
       "      <th>chrom</th>\n",
       "      <th>start</th>\n",
       "      <th>end</th>\n",
       "    </tr>\n",
       "  </thead>\n",
       "  <tbody>\n",
       "    <tr>\n",
       "      <th>0</th>\n",
       "      <td>chr1</td>\n",
       "      <td>2638</td>\n",
       "      <td>3411</td>\n",
       "    </tr>\n",
       "    <tr>\n",
       "      <th>1</th>\n",
       "      <td>chr1</td>\n",
       "      <td>14827</td>\n",
       "      <td>15035</td>\n",
       "    </tr>\n",
       "    <tr>\n",
       "      <th>2</th>\n",
       "      <td>chr1</td>\n",
       "      <td>21617</td>\n",
       "      <td>22727</td>\n",
       "    </tr>\n",
       "    <tr>\n",
       "      <th>3</th>\n",
       "      <td>chr1</td>\n",
       "      <td>23348</td>\n",
       "      <td>24285</td>\n",
       "    </tr>\n",
       "    <tr>\n",
       "      <th>4</th>\n",
       "      <td>chr1</td>\n",
       "      <td>42859</td>\n",
       "      <td>44305</td>\n",
       "    </tr>\n",
       "    <tr>\n",
       "      <th>...</th>\n",
       "      <td>...</td>\n",
       "      <td>...</td>\n",
       "      <td>...</td>\n",
       "    </tr>\n",
       "    <tr>\n",
       "      <th>177553</th>\n",
       "      <td>chrY_NW_018084777v1_random</td>\n",
       "      <td>301381</td>\n",
       "      <td>301654</td>\n",
       "    </tr>\n",
       "    <tr>\n",
       "      <th>177554</th>\n",
       "      <td>chrY_NW_018084777v1_random</td>\n",
       "      <td>303184</td>\n",
       "      <td>305177</td>\n",
       "    </tr>\n",
       "    <tr>\n",
       "      <th>177555</th>\n",
       "      <td>chrY_NW_018084780v1_random</td>\n",
       "      <td>52828</td>\n",
       "      <td>53039</td>\n",
       "    </tr>\n",
       "    <tr>\n",
       "      <th>177556</th>\n",
       "      <td>chrY_NW_018084782v1_random</td>\n",
       "      <td>52245</td>\n",
       "      <td>52773</td>\n",
       "    </tr>\n",
       "    <tr>\n",
       "      <th>177557</th>\n",
       "      <td>chrY_NW_018084784v1_random</td>\n",
       "      <td>6086</td>\n",
       "      <td>6358</td>\n",
       "    </tr>\n",
       "  </tbody>\n",
       "</table>\n",
       "<p>177558 rows × 3 columns</p>\n",
       "</div>"
      ],
      "text/plain": [
       "                             chrom   start     end\n",
       "0                             chr1    2638    3411\n",
       "1                             chr1   14827   15035\n",
       "2                             chr1   21617   22727\n",
       "3                             chr1   23348   24285\n",
       "4                             chr1   42859   44305\n",
       "...                            ...     ...     ...\n",
       "177553  chrY_NW_018084777v1_random  301381  301654\n",
       "177554  chrY_NW_018084777v1_random  303184  305177\n",
       "177555  chrY_NW_018084780v1_random   52828   53039\n",
       "177556  chrY_NW_018084782v1_random   52245   52773\n",
       "177557  chrY_NW_018084784v1_random    6086    6358\n",
       "\n",
       "[177558 rows x 3 columns]"
      ]
     },
     "execution_count": 31,
     "metadata": {},
     "output_type": "execute_result"
    }
   ],
   "source": [
    "fat_merged"
   ]
  },
  {
   "cell_type": "code",
   "execution_count": 32,
   "id": "703f4bc0-a13f-4c3f-9d02-db39d5e387f6",
   "metadata": {},
   "outputs": [
    {
     "data": {
      "image/png": "[encoded data removed]",
      "text/plain": [
       "<Figure size 640x480 with 1 Axes>"
      ]
     },
     "metadata": {},
     "output_type": "display_data"
    }
   ],
   "source": [
    "peak_sizes = fat_all[\"end\"]-fat_all[\"start\"] # histones have larger peaks than ATAC\n",
    "plt.hist(np.log10(peak_sizes),30)\n",
    "plt.show()"
   ]
  },
  {
   "cell_type": "code",
   "execution_count": null,
   "id": "f636be40-9a00-421b-81fe-adfa004b8f48",
   "metadata": {},
   "outputs": [],
   "source": []
  }
 ],
 "metadata": {
  "kernelspec": {
   "display_name": "Python 3 (ipykernel)",
   "language": "python",
   "name": "python3"
  },
  "language_info": {
   "codemirror_mode": {
    "name": "ipython",
    "version": 3
   },
   "file_extension": ".py",
   "mimetype": "text/x-python",
   "name": "python",
   "nbconvert_exporter": "python",
   "pygments_lexer": "ipython3",
   "version": "3.9.7"
  }
 },
 "nbformat": 4,
 "nbformat_minor": 5
}
